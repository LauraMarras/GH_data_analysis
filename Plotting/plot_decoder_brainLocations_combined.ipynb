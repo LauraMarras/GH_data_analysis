{
 "cells": [
  {
   "cell_type": "code",
   "execution_count": 1,
   "metadata": {},
   "outputs": [],
   "source": [
    "from mayavi import mlab\n",
    "from ctmr_brain_plot import el_add, ctmr_gauss_plot\n",
    "import matplotlib.colors as mcolors\n",
    "import os\n",
    "import scipy.io as sio\n",
    "import numpy as np\n",
    "\n",
    "%gui qt"
   ]
  },
  {
   "cell_type": "code",
   "execution_count": 35,
   "id": "f85c5f03",
   "metadata": {},
   "outputs": [],
   "source": [
    "pathToParticipant='C:/Users/laura/Documents/Data_Analysis/Data/Labelling/kh21-25_warped/cvs35inMNI152 - Meshes'\n",
    "\n",
    "# Load left hemisphere\n",
    "lh = sio.loadmat(pathToParticipant + '/lh_pial_trivert.mat')\n",
    "lhTri=lh['tri']\n",
    "lhVert=lh['vert']\n",
    "\n",
    "# Load right hemisphere \n",
    "rh = sio.loadmat(pathToParticipant + '/rh_pial_trivert.mat')\n",
    "rhTri=rh['tri']\n",
    "rhVert=rh['vert']\n",
    "\n",
    "# Combine to cortex\n",
    "cortexVert = np.concatenate([lhVert,rhVert])\n",
    "cortexTri = np.concatenate([lhTri,rhTri+lhVert.shape[0]])\n",
    "\n",
    "# Plot brain\n",
    "mesh, mlab_mesh = ctmr_gauss_plot(cortexTri,cortexVert,opacity = 0.5)"
   ]
  },
  {
   "cell_type": "code",
   "execution_count": 36,
   "id": "29f5d204",
   "metadata": {},
   "outputs": [
    {
     "name": "stdout",
     "output_type": "stream",
     "text": [
      "127\n",
      "labelled electrodes are 22 more than recorded electrodes\n",
      "122\n",
      "labelled electrodes are 2 more than recorded electrodes\n",
      "157\n",
      "labelled electrodes are 2 more than recorded electrodes\n",
      "127\n",
      "labelled electrodes are 28 more than recorded electrodes\n",
      "57\n",
      "labelled electrodes are 2 more than recorded electrodes\n"
     ]
    }
   ],
   "source": [
    "# Loading electrodes\n",
    "pathToElectrodes = 'C:/Users/laura/Documents/Data_Analysis/Data/Labelling/kh21-25_warped/warped coordinates'\n",
    "\n",
    "for pNr, sub in enumerate(['kh21','kh22','kh23','kh24','kh25']):\n",
    "    elecs = sio.loadmat(pathToElectrodes + '\\\\' + sub + '_elecs_all_warped.mat')\n",
    "    elecLocs = elecs['elecmatrix']\n",
    "    anatomy=elecs['anatomy'][:,3]\n",
    "    anatomy = np.array([i[0] for i in anatomy])\n",
    "    elecNames = elecs['anatomy'][:,0]\n",
    "    elecNames = np.array([i[0] for i in elecNames])\n",
    "\n",
    "\n",
    "# Load recorded channels and check for not labelled channels that weren't recorded\n",
    "    recorded_channels = np.load('C:/Users/laura/Documents/Data_Analysis/Data/PreprocessedData/{}_channels.npy'.format(sub))\n",
    "    print(len(recorded_channels))\n",
    "    not_recorded = []\n",
    "    if len(elecNames) > len(recorded_channels):\n",
    "        print('labelled electrodes are ' + str(len(elecNames)-len(recorded_channels)) + ' more than recorded electrodes')\n",
    "        for el in elecNames:\n",
    "            if el not in recorded_channels:\n",
    "                not_recorded.append(el)\n",
    "    elif len(elecNames) < len(recorded_channels):\n",
    "        print('labelled electrodes are ' + str(len(recorded_channels)-len(elecNames)) + ' less than recorded electrodes')\n",
    "        for el in recorded_channels:\n",
    "            if el not in elecNames:\n",
    "                not_recorded.append(el)\n",
    "    else:\n",
    "        print('labelled electrodes are equal number than recorded electrodes')\n",
    "\n",
    "    index_not_recorded = [np.where(elecNames == x)[0][0] for x in not_recorded]\n",
    "\n",
    "# Remove not registered electrodes from elecLocs\n",
    "    recElecLocs = np.delete(elecLocs, index_not_recorded, axis=0)\n",
    "\n",
    "\n",
    "# Load p vals and AUC scores \n",
    "    scoresFile = np.load('C:/Users/laura/Documents/Data_Analysis/Data/DecodingResults/stimulus_stimvalence/{}/{}_decoder_single_electrodes.npz'.format(sub,sub))\n",
    "\n",
    "    score_means = scoresFile['score_means']\n",
    "    p_vals = scoresFile['p_vals']\n",
    "    threshold = scoresFile['threshold']\n",
    "\n",
    "# Select only significant channels (location and AUC scores)\n",
    "    index_not_signif = np.where(p_vals > 0.05)\n",
    "    signElecLocs = np.delete(recElecLocs, index_not_signif, axis=0)\n",
    "    signScores = np.delete(score_means, index_not_signif, axis=0)\n",
    "\n",
    "# Select not significant channels\n",
    "    index_signif = np.where(p_vals <= 0.05)\n",
    "    not_signElecLocs = np.delete(recElecLocs, index_signif, axis=0)\n",
    "    not_signScores = np.delete(score_means, index_signif, axis=0)\n",
    "\n",
    "# Assign Weights to electrodes: AUC scores\n",
    "    electrodeWeights = score_means\n",
    "\n",
    "# Create ColorMap\n",
    "    # Define color palette\n",
    "    #palette = ['#6C757D']\n",
    "    palette = ['#d7d3c1']\n",
    "    colors = ['#12b2e2', '#153ae0', '#850ad6','#f61379']\n",
    "    num_colors = 10-int(threshold[3]*10)\n",
    "    palette.extend(colors[-(num_colors):])\n",
    "\n",
    "    # Define bounds, norm and create colormap\n",
    "    limits = np.linspace(0,1, num=11, endpoint=True)\n",
    "    bounds = np.insert(limits[limits>threshold[3]], 0, [0, threshold[3]])\n",
    "    norm = mcolors.BoundaryNorm(bounds, len(bounds)-1)\n",
    "    cmap = mcolors.LinearSegmentedColormap.from_list('my_cmap', palette, len(bounds)-1)\n",
    "\n",
    "    # Extract color RGB values from colormap\n",
    "    colors = cmap(norm(electrodeWeights))[:,:3]\n",
    "\n",
    "# Plot Electrodes with color coding\n",
    "    el_add(recElecLocs, colors)"
   ]
  },
  {
   "cell_type": "code",
   "execution_count": 37,
   "metadata": {},
   "outputs": [],
   "source": [
    "rec = [127, 122, 157, 127, 57]\n",
    "sig = [33, 54, 50, 39, 20]\n",
    "\n",
    "perc = [x*100/rec[i] for i,x in enumerate(sig)]\n"
   ]
  },
  {
   "cell_type": "code",
   "execution_count": 38,
   "id": "c1603651",
   "metadata": {},
   "outputs": [
    {
     "data": {
      "text/plain": [
       "<mayavi.core.lut_manager.LUTManager at 0x25a3303c680>"
      ]
     },
     "execution_count": 38,
     "metadata": {},
     "output_type": "execute_result"
    }
   ],
   "source": [
    "# Add colorbar\n",
    "mesh.module_manager.scalar_lut_manager.lut.table = (cmap(np.linspace(0, 1, 255)) * 255).astype('int')\n",
    "mlab.colorbar(title='AUC score', orientation='vertical', nb_labels = 0)"
   ]
  },
  {
   "cell_type": "code",
   "execution_count": 39,
   "metadata": {},
   "outputs": [],
   "source": [
    "@mlab.animate\n",
    "def anim():\n",
    "    f = mlab.gcf()            \n",
    "    while 1:\n",
    "        f.scene.camera.azimuth(10)\n",
    "        f.scene.render()\n",
    "        yield\n",
    "\n",
    "a = anim() # Starts the animation."
   ]
  },
  {
   "cell_type": "code",
   "execution_count": 7,
   "id": "40b79a36",
   "metadata": {},
   "outputs": [],
   "source": [
    "# Save fig\n",
    "out_path = 'C:/Users/laura/Documents/Data_Analysis/Plots/brain_locations/'\n",
    "if not os.path.exists(out_path):\n",
    "    os.makedirs(out_path)\n",
    "mlab.savefig(out_path + 'Combined_Accuracy_{}.png'.format(pNr, str(1)))"
   ]
  }
 ],
 "metadata": {
  "interpreter": {
   "hash": "c4645ee83d1f638daf46fc541159f70e7764fbca4ebff65f726dc96ebb085cb2"
  },
  "kernelspec": {
   "display_name": "Python 3.9.10 ('mne')",
   "language": "python",
   "name": "python3"
  },
  "language_info": {
   "codemirror_mode": {
    "name": "ipython",
    "version": 3
   },
   "file_extension": ".py",
   "mimetype": "text/x-python",
   "name": "python",
   "nbconvert_exporter": "python",
   "pygments_lexer": "ipython3",
   "version": "3.9.10"
  },
  "orig_nbformat": 4
 },
 "nbformat": 4,
 "nbformat_minor": 2
}
