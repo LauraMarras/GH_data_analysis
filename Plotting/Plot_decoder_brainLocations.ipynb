{
 "cells": [
  {
   "cell_type": "code",
   "execution_count": 1,
   "id": "696aa111",
   "metadata": {},
   "outputs": [],
   "source": [
    "from mayavi import mlab\n",
    "from ctmr_brain_plot import el_add, ctmr_gauss_plot\n",
    "import matplotlib.colors as mcolors\n",
    "import os\n",
    "import scipy.io as sio\n",
    "import numpy as np\n",
    "\n",
    "%gui qt"
   ]
  },
  {
   "cell_type": "code",
   "execution_count": 71,
   "id": "4664d58a",
   "metadata": {},
   "outputs": [],
   "source": [
    "# Load the meshes extracted by img_pipe/freesurfer\n",
    "pNr = '25'\n",
    "name = 'patient_' + pNr\n",
    "pathToParticipant = 'C:/Users/laura/Documents/Data_Analysis/Data/Labelling/kh{}/'.format(pNr)\n",
    "\n",
    "# Load left hemisphere\n",
    "lh = sio.loadmat(pathToParticipant + name +  '_lh_pial.mat')\n",
    "lhTri=lh['cortex']['tri'][0][0]-1\n",
    "lhVert=lh['cortex']['vert'][0][0]\n",
    "#lhVert, lhTri  = reduceMesh(lhVert,lhTri,numTriangles=5000)\n",
    "\n",
    "# Load right hemisphere\n",
    "rh = sio.loadmat(pathToParticipant + name +  '_rh_pial.mat')\n",
    "rhTri=rh['cortex']['tri'][0][0]-1\n",
    "rhVert=rh['cortex']['vert'][0][0]\n",
    "#rhVert, rhTri  = reduceMesh(rhVert,rhTri,numTriangles=5000)\n",
    "\n",
    "# Combine to cortex\n",
    "cortexVert = np.concatenate([lhVert,rhVert])\n",
    "cortexTri = np.concatenate([lhTri,rhTri+lhVert.shape[0]])\n",
    "\n",
    "# Loading electrodes\n",
    "elecs = sio.loadmat(pathToParticipant + 'elecs_all.mat')\n",
    "elecLocs = elecs['elecmatrix']\n",
    "anatomy=elecs['anatomy'][:,3]\n",
    "anatomy = np.array([i[0] for i in anatomy])\n",
    "elecNames = elecs['anatomy'][:,0]\n",
    "elecNames = np.array([i[0] for i in elecNames])"
   ]
  },
  {
   "cell_type": "code",
   "execution_count": 72,
   "id": "dde00e4d",
   "metadata": {},
   "outputs": [
    {
     "name": "stdout",
     "output_type": "stream",
     "text": [
      "labelled electrodes are 2 more than recorded electrodes\n"
     ]
    }
   ],
   "source": [
    "# Load recorded channels and check for not labelled channels that weren't recorded\n",
    "recorded_channels = np.load('C:/Users/laura/Documents/Data_Analysis/Data/PreprocessedData/kh{}_channels.npy'.format(pNr))\n",
    "        \n",
    "not_recorded = []\n",
    "if len(elecNames) > len(recorded_channels):\n",
    "    print('labelled electrodes are ' + str(len(elecNames)-len(recorded_channels)) + ' more than recorded electrodes')\n",
    "    for el in elecNames:\n",
    "        if el not in recorded_channels:\n",
    "            not_recorded.append(el)\n",
    "elif len(elecNames) < len(recorded_channels):\n",
    "    print('labelled electrodes are ' + str(len(recorded_channels)-len(elecNames)) + ' less than recorded electrodes')\n",
    "    for el in recorded_channels:\n",
    "        if el not in elecNames:\n",
    "            not_recorded.append(el)\n",
    "else:\n",
    "    print('labelled electrodes are equal number than recorded electrodes')\n",
    "\n",
    "index_not_recorded = [np.where(elecNames == x)[0][0] for x in not_recorded]\n",
    "\n",
    "# Remove not registered electrodes from elecLocs\n",
    "recElecLocs = np.delete(elecLocs, index_not_recorded, axis=0)"
   ]
  },
  {
   "cell_type": "code",
   "execution_count": 73,
   "id": "ab285667",
   "metadata": {},
   "outputs": [],
   "source": [
    "# Load p vals and AUC scores \n",
    "scoresFile = np.load('C:/Users/laura/Documents/Data_Analysis/Data/DecodingResults/feedback_accuracy/kh{}/kh{}_decoder_single_electrodes.npz'.format(pNr,pNr))\n",
    "\n",
    "score_means = scoresFile['score_means']\n",
    "p_vals = scoresFile['p_vals']\n",
    "threshold = scoresFile['threshold']\n",
    "\n",
    "# Select only significant channels (location and AUC scores)\n",
    "index_not_signif = np.where(p_vals > 0.05)\n",
    "signElecLocs = np.delete(recElecLocs, index_not_signif, axis=0)\n",
    "signScores = np.delete(score_means, index_not_signif, axis=0)\n",
    "\n",
    "# Select not significant channels\n",
    "index_signif = np.where(p_vals <= 0.05)\n",
    "not_signElecLocs = np.delete(recElecLocs, index_signif, axis=0)\n",
    "not_signScores = np.delete(score_means, index_signif, axis=0)\n",
    "\n",
    "# Assign Weights to electrodes: AUC scores\n",
    "electrodeWeights = score_means"
   ]
  },
  {
   "cell_type": "code",
   "execution_count": 74,
   "id": "f5e2875a",
   "metadata": {},
   "outputs": [],
   "source": [
    "# Create ColorMap\n",
    "# Define color palette\n",
    "palette = ['#6C757D']\n",
    "colors = ['#12b2e2', '#153ae0', '#850ad6','#f61379']\n",
    "num_colors = 10-int(threshold[3]*10)\n",
    "palette.extend(colors[-(num_colors):])\n",
    "\n",
    "# Define bounds, norm and create colormap\n",
    "limits = np.linspace(0,1, num=11, endpoint=True)\n",
    "bounds = np.insert(limits[limits>threshold[3]], 0, [0, threshold[3]])\n",
    "norm = mcolors.BoundaryNorm(bounds, len(bounds)-1)\n",
    "cmap = mcolors.LinearSegmentedColormap.from_list('my_cmap', palette, len(bounds)-1)\n",
    "\n",
    "# Extract color RGB values from colormap\n",
    "colors = cmap(norm(electrodeWeights))[:,:3]"
   ]
  },
  {
   "cell_type": "code",
   "execution_count": 85,
   "id": "816d7689",
   "metadata": {},
   "outputs": [
    {
     "data": {
      "text/plain": [
       "<mayavi.core.lut_manager.LUTManager at 0x1bca6ad4180>"
      ]
     },
     "execution_count": 85,
     "metadata": {},
     "output_type": "execute_result"
    }
   ],
   "source": [
    "# Plot brain\n",
    "mesh, mlab_mesh = ctmr_gauss_plot(cortexTri, cortexVert, opacity=0.1, weights=electrodeWeights, cmap=cmap)#, elecs=signElecLocs)\n",
    "\n",
    "# Plot Electrodes with color coding\n",
    "el_add(recElecLocs, colors)\n",
    "\n",
    "# Add colorbar\n",
    "mesh.module_manager.scalar_lut_manager.lut.table = (cmap(np.linspace(0, 1, 255)) * 255).astype('int')\n",
    "mlab.colorbar(title='AUC score', orientation='vertical', nb_labels = 0)"
   ]
  },
  {
   "cell_type": "code",
   "execution_count": 84,
   "id": "40b79a36",
   "metadata": {},
   "outputs": [],
   "source": [
    "# Save fig\n",
    "out_path = 'C:/Users/laura/Documents/Data_Analysis/Plots/brain_locations/kh{}/'.format(pNr)\n",
    "if not os.path.exists(out_path):\n",
    "    os.makedirs(out_path)\n",
    "mlab.savefig(out_path + 'kh{}_{}.png'.format(pNr, str(1)))"
   ]
  }
 ],
 "metadata": {
  "kernelspec": {
   "display_name": "Python 3 (ipykernel)",
   "language": "python",
   "name": "python3"
  },
  "language_info": {
   "codemirror_mode": {
    "name": "ipython",
    "version": 3
   },
   "file_extension": ".py",
   "mimetype": "text/x-python",
   "name": "python",
   "nbconvert_exporter": "python",
   "pygments_lexer": "ipython3",
   "version": "3.9.10"
  }
 },
 "nbformat": 4,
 "nbformat_minor": 5
}
